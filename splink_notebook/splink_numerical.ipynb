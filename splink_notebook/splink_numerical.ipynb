{
 "cells": [
  {
   "cell_type": "code",
   "execution_count": 193,
   "id": "d2c8f740",
   "metadata": {},
   "outputs": [],
   "source": [
    "import findspark\n",
    "findspark.init()\n",
    "\n",
    "import pyspark\n",
    "from pyspark.sql import SparkSession\n",
    "from pyspark.context import SparkContext\n",
    "from pyspark.sql.functions import *\n",
    "from pyspark.sql.session import SparkSession\n",
    "from splink import Splink\n",
    "from splink.jar_fallback import jw_sim_py"
   ]
  },
  {
   "cell_type": "code",
   "execution_count": 194,
   "id": "c537b58b",
   "metadata": {},
   "outputs": [
    {
     "name": "stdout",
     "output_type": "stream",
     "text": [
      "PySpark Application Started\n",
      "Splink\n",
      "the data is:\n"
     ]
    }
   ],
   "source": [
    "print(\"PySpark Application Started\")\n",
    "\n",
    "spark = SparkSession \\\n",
    "    .builder \\\n",
    "    .appName(\"Splink\") \\\n",
    "    .master(\"local[*]\") \\\n",
    "    .config(\"spark.default.parallelism\", \"4\")\\\n",
    "    .config(\"spark.driver.memory\", \"8g\")\\\n",
    "    .config(\"spark.executor.memory\", \"8g\")\\\n",
    "    .getOrCreate()\n",
    "\n",
    "\n",
    "print(spark.sparkContext.appName)\n",
    "\n",
    "df = spark.read.option(\"header\", \"true\").csv(\"/home/abhishekks446/data/demo_20.csv\")\n",
    "print(\"the data is:\")\n",
    "\n",
    "# df.createOrReplaceTempView(\"table1\")\n",
    "# df_new=spark.sql(\"select * from table1 ORDER BY RAND() limit 8000\")\n",
    "df_new=df"
   ]
  },
  {
   "cell_type": "code",
   "execution_count": 195,
   "id": "29547226",
   "metadata": {},
   "outputs": [
    {
     "data": {
      "text/plain": [
       "20"
      ]
     },
     "execution_count": 195,
     "metadata": {},
     "output_type": "execute_result"
    }
   ],
   "source": [
    "df_new.count()"
   ]
  },
  {
   "cell_type": "code",
   "execution_count": 196,
   "id": "c6fe232d",
   "metadata": {},
   "outputs": [
    {
     "name": "stderr",
     "output_type": "stream",
     "text": [
      "/home/abhishekks446/pyspark/my_project_dir/my_project_env/lib/python3.8/site-packages/splink/case_statements.py:20: UserWarning: \n",
      "\n",
      "Custom string comparison functions such as jaro_winkler_sim are not available in Spark\n",
      "Or you did not pass 'spark' (the SparkSession) into 'Model' \n",
      "You can import these functions using the scala-udf-similarity-0.0.9.jar provided with Splink.\n",
      "You will need to add it by correctly configuring your spark config\n",
      "For example in Spark 2.4.5\n",
      "\n",
      "from pyspark.sql import SparkSession, types\n",
      "from pyspark.context import SparkConf, SparkContext\n",
      "conf.set('spark.driver.extraClassPath', '/home/abhishekks446/pyspark/my_project_dir/my_project_env/lib/python3.8/site-packages/splink/jars/scala-udf-similarity-0.0.9.jar') # Not needed in spark 3\n",
      "conf.set('spark.jars', '/home/abhishekks446/pyspark/my_project_dir/my_project_env/lib/python3.8/site-packages/splink/jars/scala-udf-similarity-0.0.9.jar')\n",
      "spark.udf.registerJavaFunction('jaro_winkler_sim','uk.gov.moj.dash.linkage.JaroWinklerSimilarity',types.DoubleType())\n",
      "sc = SparkContext.getOrCreate(conf=conf)\n",
      "spark = SparkSession(sc)\n",
      "\n",
      "Alternatively, for Jaro Winkler, you can register a less efficient Python implementation using\n",
      "\n",
      "from splink.jar_fallback import jw_sim_py\n",
      "spark.udf.register('jaro_winkler_sim', jw_sim_py)\n",
      "\n",
      "  warnings.warn(\n"
     ]
    }
   ],
   "source": [
    "settings = {\n",
    "    \"link_type\": \"dedupe_only\",\n",
    "    \"blocking_rules\": [\n",
    "        \"l.venue = r.venue and l.year = r.year\",\n",
    "        \"l.venue = r.venue and l.title = r.title\"\n",
    "\n",
    "    ],\n",
    "    \"comparison_columns\": [\n",
    "\n",
    "        {\n",
    "            \"col_name\": \"title\",\n",
    "            \"num_levels\": 2,\n",
    "            \"term_frequency_adjustments\": True\n",
    "        },\n",
    "#         {\n",
    "#             \"col_name\": \"year\"\n",
    "\n",
    "#         },\n",
    "         {\n",
    "            \"col_name\": \"venue\",\n",
    "          \n",
    "        }\n",
    "       \n",
    "    ]\n",
    "\n",
    "}\n",
    "\n",
    "linker = Splink(settings,df_new, spark)\n",
    "df_e = linker.get_scored_comparisons()"
   ]
  },
  {
   "cell_type": "code",
   "execution_count": 197,
   "id": "4181d749",
   "metadata": {
    "scrolled": false
   },
   "outputs": [],
   "source": [
    "# settings = {\n",
    "#     \"link_type\": \"dedupe_only\",\n",
    "#     \"blocking_rules\": [\n",
    "#         \"l.country = r.country and l.lat = r.lat\"\n",
    "\n",
    "#     ],\n",
    "#     \"comparison_columns\": [\n",
    "\n",
    "#         {\n",
    "#             \"col_name\": \"delta\",\n",
    "#             \"num_levels\": 2,\n",
    "# #             \"term_frequency_adjustments\": True\n",
    "#         },\n",
    "#         {\n",
    "#             \"col_name\": \"lat\"\n",
    "\n",
    "#         },\n",
    "#          {\n",
    "#             \"col_name\": \"country\",\n",
    "          \n",
    "#         }\n",
    "       \n",
    "#     ]\n",
    "\n",
    "# }\n",
    "\n",
    "# linker = Splink(settings,df_new, spark)\n",
    "# df_e = linker.get_scored_comparisons()"
   ]
  },
  {
   "cell_type": "code",
   "execution_count": 198,
   "id": "2efd43c3",
   "metadata": {},
   "outputs": [
    {
     "data": {
      "text/plain": [
       "4"
      ]
     },
     "execution_count": 198,
     "metadata": {},
     "output_type": "execute_result"
    }
   ],
   "source": [
    "df_e.count()"
   ]
  },
  {
   "cell_type": "code",
   "execution_count": 202,
   "id": "6c4378a4",
   "metadata": {},
   "outputs": [
    {
     "name": "stderr",
     "output_type": "stream",
     "text": [
      "22/07/16 15:58:06 WARN TransportChannelHandler: Exception in connection from KLI0521/192.168.10.12:34971\n",
      "java.io.IOException: Connection timed out\n",
      "\tat java.base/sun.nio.ch.FileDispatcherImpl.read0(Native Method)\n",
      "\tat java.base/sun.nio.ch.SocketDispatcher.read(SocketDispatcher.java:39)\n",
      "\tat java.base/sun.nio.ch.IOUtil.readIntoNativeBuffer(IOUtil.java:276)\n",
      "\tat java.base/sun.nio.ch.IOUtil.read(IOUtil.java:233)\n",
      "\tat java.base/sun.nio.ch.IOUtil.read(IOUtil.java:223)\n",
      "\tat java.base/sun.nio.ch.SocketChannelImpl.read(SocketChannelImpl.java:356)\n",
      "\tat io.netty.buffer.PooledByteBuf.setBytes(PooledByteBuf.java:253)\n",
      "\tat io.netty.buffer.AbstractByteBuf.writeBytes(AbstractByteBuf.java:1133)\n",
      "\tat io.netty.channel.socket.nio.NioSocketChannel.doReadBytes(NioSocketChannel.java:350)\n",
      "\tat io.netty.channel.nio.AbstractNioByteChannel$NioByteUnsafe.read(AbstractNioByteChannel.java:148)\n",
      "\tat io.netty.channel.nio.NioEventLoop.processSelectedKey(NioEventLoop.java:714)\n",
      "\tat io.netty.channel.nio.NioEventLoop.processSelectedKeysOptimized(NioEventLoop.java:650)\n",
      "\tat io.netty.channel.nio.NioEventLoop.processSelectedKeys(NioEventLoop.java:576)\n",
      "\tat io.netty.channel.nio.NioEventLoop.run(NioEventLoop.java:493)\n",
      "\tat io.netty.util.concurrent.SingleThreadEventExecutor$4.run(SingleThreadEventExecutor.java:989)\n",
      "\tat io.netty.util.internal.ThreadExecutorMap$2.run(ThreadExecutorMap.java:74)\n",
      "\tat io.netty.util.concurrent.FastThreadLocalRunnable.run(FastThreadLocalRunnable.java:30)\n",
      "\tat java.base/java.lang.Thread.run(Thread.java:829)\n"
     ]
    }
   ],
   "source": [
    "df_e.coalesce(1).write.format(\"csv\").option(\"header\",\"true\").mode(\"overwrite\").save(\"/home/abhishekks446/data/output_num\")"
   ]
  },
  {
   "cell_type": "code",
   "execution_count": 200,
   "id": "ba179a00",
   "metadata": {},
   "outputs": [],
   "source": [
    "df_new=df_e.toPandas().sort_values(\"match_probability\", ascending=False)\n",
    "df_new=df_new.sort_values(\"match_weight\", ascending=False)"
   ]
  },
  {
   "cell_type": "code",
   "execution_count": 201,
   "id": "cf275b31",
   "metadata": {},
   "outputs": [
    {
     "data": {
      "text/html": [
       "<div>\n",
       "<style scoped>\n",
       "    .dataframe tbody tr th:only-of-type {\n",
       "        vertical-align: middle;\n",
       "    }\n",
       "\n",
       "    .dataframe tbody tr th {\n",
       "        vertical-align: top;\n",
       "    }\n",
       "\n",
       "    .dataframe thead th {\n",
       "        text-align: right;\n",
       "    }\n",
       "</style>\n",
       "<table border=\"1\" class=\"dataframe\">\n",
       "  <thead>\n",
       "    <tr style=\"text-align: right;\">\n",
       "      <th></th>\n",
       "      <th>match_weight</th>\n",
       "      <th>match_probability</th>\n",
       "      <th>unique_id_l</th>\n",
       "      <th>unique_id_r</th>\n",
       "      <th>title_l</th>\n",
       "      <th>title_r</th>\n",
       "      <th>gamma_title</th>\n",
       "      <th>venue_l</th>\n",
       "      <th>venue_r</th>\n",
       "      <th>gamma_venue</th>\n",
       "      <th>match_key</th>\n",
       "    </tr>\n",
       "  </thead>\n",
       "  <tbody>\n",
       "    <tr>\n",
       "      <th>1</th>\n",
       "      <td>1.716318</td>\n",
       "      <td>0.76668</td>\n",
       "      <td>8</td>\n",
       "      <td>9</td>\n",
       "      <td>Report on DART '96: Databases: Active and Real...</td>\n",
       "      <td>Report on DART '96: Databases: Active and Real...</td>\n",
       "      <td>1</td>\n",
       "      <td>SIGMOD Record</td>\n",
       "      <td>SIGMOD Record</td>\n",
       "      <td>1</td>\n",
       "      <td>0</td>\n",
       "    </tr>\n",
       "    <tr>\n",
       "      <th>0</th>\n",
       "      <td>-1.222392</td>\n",
       "      <td>0.30000</td>\n",
       "      <td>5</td>\n",
       "      <td>6</td>\n",
       "      <td>Efficient Geometry-based Similarity Search of ...</td>\n",
       "      <td>Efficient Geometry-3D Spatial Databases</td>\n",
       "      <td>0</td>\n",
       "      <td>SIGMOD Record</td>\n",
       "      <td>SIGMOD Record</td>\n",
       "      <td>1</td>\n",
       "      <td>0</td>\n",
       "    </tr>\n",
       "    <tr>\n",
       "      <th>2</th>\n",
       "      <td>-1.222392</td>\n",
       "      <td>0.30000</td>\n",
       "      <td>13</td>\n",
       "      <td>14</td>\n",
       "      <td>WaveCluster: A Wavelet Based Clustering Approa...</td>\n",
       "      <td>A Wavelet Based Clustering Approach for Spatia...</td>\n",
       "      <td>0</td>\n",
       "      <td>VLDB J.</td>\n",
       "      <td>VLDB J.</td>\n",
       "      <td>1</td>\n",
       "      <td>0</td>\n",
       "    </tr>\n",
       "    <tr>\n",
       "      <th>3</th>\n",
       "      <td>-1.222392</td>\n",
       "      <td>0.30000</td>\n",
       "      <td>16</td>\n",
       "      <td>17</td>\n",
       "      <td>Snowball: A Prototype System for Extracting Re...</td>\n",
       "      <td>Snowball: A Prototype</td>\n",
       "      <td>0</td>\n",
       "      <td>SIGMOD Conference</td>\n",
       "      <td>SIGMOD Conference</td>\n",
       "      <td>1</td>\n",
       "      <td>0</td>\n",
       "    </tr>\n",
       "  </tbody>\n",
       "</table>\n",
       "</div>"
      ],
      "text/plain": [
       "   match_weight  match_probability unique_id_l unique_id_r  \\\n",
       "1      1.716318            0.76668           8           9   \n",
       "0     -1.222392            0.30000           5           6   \n",
       "2     -1.222392            0.30000          13          14   \n",
       "3     -1.222392            0.30000          16          17   \n",
       "\n",
       "                                             title_l  \\\n",
       "1  Report on DART '96: Databases: Active and Real...   \n",
       "0  Efficient Geometry-based Similarity Search of ...   \n",
       "2  WaveCluster: A Wavelet Based Clustering Approa...   \n",
       "3  Snowball: A Prototype System for Extracting Re...   \n",
       "\n",
       "                                             title_r  gamma_title  \\\n",
       "1  Report on DART '96: Databases: Active and Real...            1   \n",
       "0            Efficient Geometry-3D Spatial Databases            0   \n",
       "2  A Wavelet Based Clustering Approach for Spatia...            0   \n",
       "3                              Snowball: A Prototype            0   \n",
       "\n",
       "             venue_l            venue_r  gamma_venue match_key  \n",
       "1      SIGMOD Record      SIGMOD Record            1         0  \n",
       "0      SIGMOD Record      SIGMOD Record            1         0  \n",
       "2            VLDB J.            VLDB J.            1         0  \n",
       "3  SIGMOD Conference  SIGMOD Conference            1         0  "
      ]
     },
     "execution_count": 201,
     "metadata": {},
     "output_type": "execute_result"
    }
   ],
   "source": [
    "df_new.head(21)"
   ]
  },
  {
   "cell_type": "code",
   "execution_count": 76,
   "id": "3658fa3b",
   "metadata": {},
   "outputs": [],
   "source": [
    "dedupe=df_new.loc[df_new['match_probability'] > 0.90]"
   ]
  },
  {
   "cell_type": "code",
   "execution_count": 77,
   "id": "54bec1e6",
   "metadata": {},
   "outputs": [
    {
     "data": {
      "text/plain": [
       "match_weight         21\n",
       "match_probability    21\n",
       "unique_id_l          21\n",
       "unique_id_r          21\n",
       "title_l              21\n",
       "title_r              21\n",
       "gamma_title          21\n",
       "year_l               21\n",
       "year_r               21\n",
       "gamma_year           21\n",
       "venue_l              21\n",
       "venue_r              21\n",
       "gamma_venue          21\n",
       "dtype: int64"
      ]
     },
     "execution_count": 77,
     "metadata": {},
     "output_type": "execute_result"
    }
   ],
   "source": [
    "dedupe.count()"
   ]
  },
  {
   "cell_type": "code",
   "execution_count": null,
   "id": "9437c410",
   "metadata": {},
   "outputs": [],
   "source": []
  }
 ],
 "metadata": {
  "kernelspec": {
   "display_name": "Python 3 (ipykernel)",
   "language": "python",
   "name": "python3"
  },
  "language_info": {
   "codemirror_mode": {
    "name": "ipython",
    "version": 3
   },
   "file_extension": ".py",
   "mimetype": "text/x-python",
   "name": "python",
   "nbconvert_exporter": "python",
   "pygments_lexer": "ipython3",
   "version": "3.8.10"
  }
 },
 "nbformat": 4,
 "nbformat_minor": 5
}
