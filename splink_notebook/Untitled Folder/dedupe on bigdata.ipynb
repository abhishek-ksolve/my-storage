{
 "cells": [
  {
   "cell_type": "code",
   "execution_count": 1,
   "id": "08416394",
   "metadata": {},
   "outputs": [
    {
     "name": "stdout",
     "output_type": "stream",
     "text": [
      "PySpark Application Started\n"
     ]
    },
    {
     "name": "stderr",
     "output_type": "stream",
     "text": [
      "WARNING: An illegal reflective access operation has occurred\n",
      "WARNING: Illegal reflective access by org.apache.spark.unsafe.Platform (file:/opt/spark/jars/spark-unsafe_2.12-3.1.3.jar) to constructor java.nio.DirectByteBuffer(long,int)\n",
      "WARNING: Please consider reporting this to the maintainers of org.apache.spark.unsafe.Platform\n",
      "WARNING: Use --illegal-access=warn to enable warnings of further illegal reflective access operations\n",
      "WARNING: All illegal access operations will be denied in a future release\n",
      "22/09/19 15:34:15 WARN NativeCodeLoader: Unable to load native-hadoop library for your platform... using builtin-java classes where applicable\n",
      "Using Spark's default log4j profile: org/apache/spark/log4j-defaults.properties\n",
      "Setting default log level to \"WARN\".\n",
      "To adjust logging level use sc.setLogLevel(newLevel). For SparkR, use setLogLevel(newLevel).\n"
     ]
    },
    {
     "name": "stdout",
     "output_type": "stream",
     "text": [
      "dedupe\n"
     ]
    }
   ],
   "source": [
    "from future.builtins import next\n",
    "import os\n",
    "import csv\n",
    "import re\n",
    "import collections\n",
    "import logging\n",
    "import optparse\n",
    "from numpy import nan\n",
    "import dedupe\n",
    "from unidecode import unidecode\n",
    "import findspark\n",
    "findspark.init()\n",
    "\n",
    "import pyspark\n",
    "from pyspark.sql import SparkSession\n",
    "from pyspark.context import SparkContext\n",
    "from pyspark.sql.functions import *\n",
    "from pyspark.sql.session import SparkSession\n",
    "import json\n",
    "import pyspark.sql.functions as F\n",
    "from pyspark.sql.types import IntegerType,FloatType\n",
    "\n",
    "# ## Logging\n",
    "\n",
    "# Dedupe uses Python logging to show or suppress verbose output. Added for convenience.\n",
    "# To enable verbose logging, run `python examples/csv_example.py -v`\n",
    "\n",
    "\n",
    "print(\"PySpark Application Started\")\n",
    "\n",
    "spark = SparkSession \\\n",
    "    .builder \\\n",
    "    .appName(\"dedupe\") \\\n",
    "    .master(\"local[*]\") \\\n",
    "    .getOrCreate()\n",
    "\n",
    "print(spark.sparkContext.appName)\n",
    "# ## Setup\n"
   ]
  },
  {
   "cell_type": "code",
   "execution_count": 2,
   "id": "7889b23e",
   "metadata": {},
   "outputs": [],
   "source": [
    "input_file = '/home/abhishekks446/pyspark/my_project_dir/dedupe_unittesting/INPUT/csv/data1.csv'\n",
    "# training_file = '/home/abhishekks446/pyspark/my_project_dir/Untitled Folder/settings/csv_example_training.json'\n",
    "# output_file = '/home/abhishekks446/pyspark/my_project_dir/Untitled Folder/settings/csv_example_output.csv'\n",
    "# settings_file = '/home/abhishekks446/pyspark/my_project_dir/Untitled Folder/settings/csv_example_learned_settings'\n",
    "\n",
    "\n",
    "primart_key=\"unique_id\"\n",
    "\n",
    "\n",
    "df= spark.read.option(\"header\",\"true\").csv(input_file)"
   ]
  },
  {
   "cell_type": "code",
   "execution_count": 3,
   "id": "d1e65b7a",
   "metadata": {},
   "outputs": [
    {
     "data": {
      "text/plain": [
       "9986"
      ]
     },
     "execution_count": 3,
     "metadata": {},
     "output_type": "execute_result"
    }
   ],
   "source": [
    "df.count()"
   ]
  },
  {
   "cell_type": "code",
   "execution_count": 3,
   "id": "c4ac72c9",
   "metadata": {},
   "outputs": [
    {
     "name": "stdout",
     "output_type": "stream",
     "text": [
      "root\n",
      " |-- unique_id: string (nullable = true)\n",
      " |-- date: string (nullable = true)\n",
      " |-- store_number: string (nullable = true)\n",
      " |-- store_name: string (nullable = true)\n",
      " |-- address: string (nullable = true)\n",
      " |-- city: string (nullable = true)\n",
      " |-- zip_code: string (nullable = true)\n",
      " |-- store_location: string (nullable = true)\n",
      " |-- county_number: string (nullable = true)\n",
      " |-- county: string (nullable = true)\n",
      " |-- category: string (nullable = true)\n",
      " |-- category_name: string (nullable = true)\n",
      " |-- vendor_number: string (nullable = true)\n",
      " |-- vendor_name: string (nullable = true)\n",
      " |-- item_number: string (nullable = true)\n",
      " |-- item_description: string (nullable = true)\n",
      " |-- pack: string (nullable = true)\n",
      " |-- bottle_volume_ml: string (nullable = true)\n",
      " |-- state_bottle_cost: string (nullable = true)\n",
      " |-- state_bottle_retail: string (nullable = true)\n",
      " |-- bottles_sold: string (nullable = true)\n",
      " |-- sale_dollars: string (nullable = true)\n",
      " |-- volume_sold_liters: string (nullable = true)\n",
      " |-- volume_sold_gallons: string (nullable = true)\n",
      "\n"
     ]
    }
   ],
   "source": [
    "df.printSchema()"
   ]
  },
  {
   "cell_type": "code",
   "execution_count": 4,
   "id": "287c3647",
   "metadata": {},
   "outputs": [
    {
     "name": "stderr",
     "output_type": "stream",
     "text": [
      "\r",
      "[Stage 1:>                                                          (0 + 1) / 1]\r",
      "\r",
      "                                                                                \r"
     ]
    }
   ],
   "source": [
    "def preProcess(column):\n",
    "    \"\"\"\n",
    "    Do a little bit of data cleaning with the help of Unidecode and Regex.\n",
    "    Things like casing, extra spaces, quotes and new lines can be ignored.\n",
    "    \"\"\"\n",
    "    import unidecode\n",
    "    # column = column.decode(\"utf8\")\n",
    "    column = unidecode.unidecode(column)\n",
    "    column = re.sub('  +', ' ', column)\n",
    "    column = re.sub('\\n', ' ', column)\n",
    "    column = column.strip().strip('\"').strip(\"'\").lower().strip()\n",
    "    if not column :\n",
    "        column = None\n",
    "    return column\n",
    "def readData():\n",
    "    \"\"\"\n",
    "    Read in our data from a CSV file and create a dictionary of records,\n",
    "    where the key is a unique record ID and each value is dict\n",
    "    \"\"\"\n",
    "    \n",
    "    data_d = {}\n",
    "    dfn=df.na.fill(\"\")\n",
    "    results = dfn.toJSON().map(lambda j: json.loads(j)).collect()\n",
    "    for row in results:\n",
    "        clean_row = [(k, preProcess(v)) for (k, v) in row.items()]\n",
    "        row_id = row[primart_key]\n",
    "        data_d[row_id] = dict(clean_row)\n",
    "\n",
    "    return data_d\n",
    "\n",
    "data_d = readData()\n"
   ]
  },
  {
   "cell_type": "code",
   "execution_count": 5,
   "id": "322d6429",
   "metadata": {},
   "outputs": [],
   "source": [
    "# fields = [\n",
    "# {'field' : 'product', 'type': 'String'},\n",
    "# {'field' : 'category', 'type': 'Exact', 'has missing' : True},\n",
    "# {'field' : 'brand', 'type': 'Exact', 'has missing' : True}\n",
    "# ]\n",
    "\n",
    "fields =[\n",
    "         {\n",
    "           \"field\": \"store_name\",\n",
    "           \"type\": \"String\"\n",
    "         },\n",
    "         {\n",
    "           \"field\": \"zip_code\",\n",
    "           \"type\": \"String\"\n",
    "         },\n",
    "         {\n",
    "           \"field\": \"address\",\n",
    "           \"type\": \"String\"\n",
    "         }\n",
    "       ]\n",
    "deduper = dedupe.Dedupe(fields)\n"
   ]
  },
  {
   "cell_type": "code",
   "execution_count": 6,
   "id": "8145d494",
   "metadata": {},
   "outputs": [],
   "source": [
    "deduper.prepare_training(data_d)"
   ]
  },
  {
   "cell_type": "code",
   "execution_count": 7,
   "id": "58c1a7f6",
   "metadata": {},
   "outputs": [
    {
     "name": "stderr",
     "output_type": "stream",
     "text": [
      "store_name : hy-vee fast & fresh express- bettendorf\n",
      "zip_code : 57222\n",
      "address : 3470 middle road\n",
      "\n",
      "store_name : hy-vee fast & fresh express- bettendorf\n",
      "zip_code : 57222\n",
      "address : 3470 middle road\n",
      "\n",
      "0/10 positive, 0/10 negative\n",
      "Do these records refer to the same thing?\n",
      "(y)es / (n)o / (u)nsure / (f)inished\n"
     ]
    },
    {
     "name": "stdout",
     "output_type": "stream",
     "text": [
      "y\n"
     ]
    },
    {
     "name": "stderr",
     "output_type": "stream",
     "text": [
      "store_name : hy-vee #3 food & drugstore / davenport\n",
      "zip_code : 52807\n",
      "address : 1823 e kimberly rd\n",
      "\n",
      "store_name : hy-vee #4 / davenport\n",
      "zip_code : 52807\n",
      "address : 4064 e 53rd st\n",
      "\n",
      "1/10 positive, 0/10 negative\n",
      "Do these records refer to the same thing?\n",
      "(y)es / (n)o / (u)nsure / (f)inished / (p)revious\n"
     ]
    },
    {
     "name": "stdout",
     "output_type": "stream",
     "text": [
      "n\n"
     ]
    },
    {
     "name": "stderr",
     "output_type": "stream",
     "text": [
      "store_name : hy-vee #4 / davenport\n",
      "zip_code : 52807\n",
      "address : 4064 e 53rd st\n",
      "\n",
      "store_name : hy-vee #3 food & drugstore / davenport\n",
      "zip_code : 52807\n",
      "address : 1823 e kimberly rd\n",
      "\n",
      "1/10 positive, 1/10 negative\n",
      "Do these records refer to the same thing?\n",
      "(y)es / (n)o / (u)nsure / (f)inished / (p)revious\n"
     ]
    },
    {
     "name": "stdout",
     "output_type": "stream",
     "text": [
      "n\n"
     ]
    },
    {
     "name": "stderr",
     "output_type": "stream",
     "text": [
      "store_name : kimberly mart / davenport\n",
      "zip_code : 52807\n",
      "address : 1714 e kimberly rd\n",
      "\n",
      "store_name : hy-vee #3 food & drugstore / davenport\n",
      "zip_code : 52807\n",
      "address : 1823 e kimberly rd\n",
      "\n",
      "1/10 positive, 2/10 negative\n",
      "Do these records refer to the same thing?\n",
      "(y)es / (n)o / (u)nsure / (f)inished / (p)revious\n"
     ]
    },
    {
     "name": "stdout",
     "output_type": "stream",
     "text": [
      "n\n"
     ]
    },
    {
     "name": "stderr",
     "output_type": "stream",
     "text": [
      "store_name : hy-vee #3 food & drugstore / davenport\n",
      "zip_code : 52807\n",
      "address : 1823 e kimberly rd\n",
      "\n",
      "store_name : kimberly mart / davenport\n",
      "zip_code : 52807\n",
      "address : 1714 e kimberly rd\n",
      "\n",
      "1/10 positive, 3/10 negative\n",
      "Do these records refer to the same thing?\n",
      "(y)es / (n)o / (u)nsure / (f)inished / (p)revious\n"
     ]
    },
    {
     "name": "stdout",
     "output_type": "stream",
     "text": [
      "n\n"
     ]
    },
    {
     "name": "stderr",
     "output_type": "stream",
     "text": [
      "store_name : hy-vee #3 food & drugstore / davenport\n",
      "zip_code : 52807\n",
      "address : 1823 e kimberly rd\n",
      "\n",
      "store_name : kimberly mart / davenport\n",
      "zip_code : 52807\n",
      "address : 1714 e kimberly rd\n",
      "\n",
      "1/10 positive, 4/10 negative\n",
      "Do these records refer to the same thing?\n",
      "(y)es / (n)o / (u)nsure / (f)inished / (p)revious\n"
     ]
    },
    {
     "name": "stdout",
     "output_type": "stream",
     "text": [
      "n\n"
     ]
    },
    {
     "name": "stderr",
     "output_type": "stream",
     "text": [
      "store_name : hy-vee #3 food & drugstore / davenport\n",
      "zip_code : 52807\n",
      "address : 1823 e kimberly rd\n",
      "\n",
      "store_name : kimberly mart / davenport\n",
      "zip_code : 52807\n",
      "address : 1714 e kimberly rd\n",
      "\n",
      "1/10 positive, 5/10 negative\n",
      "Do these records refer to the same thing?\n",
      "(y)es / (n)o / (u)nsure / (f)inished / (p)revious\n"
     ]
    },
    {
     "name": "stdout",
     "output_type": "stream",
     "text": [
      "n\n"
     ]
    },
    {
     "name": "stderr",
     "output_type": "stream",
     "text": [
      "store_name : hy-vee #3 food & drugstore / davenport\n",
      "zip_code : 52807\n",
      "address : 1823 e kimberly rd\n",
      "\n",
      "store_name : hy-vee #3 food & drugstore / davenport\n",
      "zip_code : 52807\n",
      "address : 1823 e kimberly rd\n",
      "\n",
      "1/10 positive, 6/10 negative\n",
      "Do these records refer to the same thing?\n",
      "(y)es / (n)o / (u)nsure / (f)inished / (p)revious\n"
     ]
    },
    {
     "name": "stdout",
     "output_type": "stream",
     "text": [
      "y\n"
     ]
    },
    {
     "name": "stderr",
     "output_type": "stream",
     "text": [
      "store_name : hy-vee #3 food & drugstore / davenport\n",
      "zip_code : 52807\n",
      "address : 1823 e kimberly rd\n",
      "\n",
      "store_name : hy-vee #3 food & drugstore / davenport\n",
      "zip_code : 52807\n",
      "address : 1823 e kimberly rd\n",
      "\n",
      "2/10 positive, 6/10 negative\n",
      "Do these records refer to the same thing?\n",
      "(y)es / (n)o / (u)nsure / (f)inished / (p)revious\n"
     ]
    },
    {
     "name": "stdout",
     "output_type": "stream",
     "text": [
      "y\n"
     ]
    },
    {
     "name": "stderr",
     "output_type": "stream",
     "text": [
      "store_name : hy-vee #3 food & drugstore / davenport\n",
      "zip_code : 52807\n",
      "address : 1823 e kimberly rd\n",
      "\n",
      "store_name : hy-vee #3 food & drugstore / davenport\n",
      "zip_code : 52807\n",
      "address : 1823 e kimberly rd\n",
      "\n",
      "3/10 positive, 6/10 negative\n",
      "Do these records refer to the same thing?\n",
      "(y)es / (n)o / (u)nsure / (f)inished / (p)revious\n"
     ]
    },
    {
     "name": "stdout",
     "output_type": "stream",
     "text": [
      "y\n"
     ]
    },
    {
     "name": "stderr",
     "output_type": "stream",
     "text": [
      "store_name : hy-vee #3 food & drugstore / davenport\n",
      "zip_code : 52807\n",
      "address : 1823 e kimberly rd\n",
      "\n",
      "store_name : kimberly mart / davenport\n",
      "zip_code : 52807\n",
      "address : 1714 e kimberly rd\n",
      "\n",
      "4/10 positive, 6/10 negative\n",
      "Do these records refer to the same thing?\n",
      "(y)es / (n)o / (u)nsure / (f)inished / (p)revious\n"
     ]
    },
    {
     "name": "stdout",
     "output_type": "stream",
     "text": [
      "n\n"
     ]
    },
    {
     "name": "stderr",
     "output_type": "stream",
     "text": [
      "store_name : hy-vee #3 food & drugstore / davenport\n",
      "zip_code : 52807\n",
      "address : 1823 e kimberly rd\n",
      "\n",
      "store_name : kimberly mart / davenport\n",
      "zip_code : 52807\n",
      "address : 1714 e kimberly rd\n",
      "\n",
      "4/10 positive, 7/10 negative\n",
      "Do these records refer to the same thing?\n",
      "(y)es / (n)o / (u)nsure / (f)inished / (p)revious\n"
     ]
    },
    {
     "name": "stdout",
     "output_type": "stream",
     "text": [
      "n\n"
     ]
    },
    {
     "name": "stderr",
     "output_type": "stream",
     "text": [
      "store_name : hy-vee #3 food & drugstore / davenport\n",
      "zip_code : 52807\n",
      "address : 1823 e kimberly rd\n",
      "\n",
      "store_name : hy-vee #3 food & drugstore / davenport\n",
      "zip_code : 52807\n",
      "address : 1823 e kimberly rd\n",
      "\n",
      "4/10 positive, 8/10 negative\n",
      "Do these records refer to the same thing?\n",
      "(y)es / (n)o / (u)nsure / (f)inished / (p)revious\n"
     ]
    },
    {
     "name": "stdout",
     "output_type": "stream",
     "text": [
      "y\n"
     ]
    },
    {
     "name": "stderr",
     "output_type": "stream",
     "text": [
      "store_name : hy-vee #3 food & drugstore / davenport\n",
      "zip_code : 52807\n",
      "address : 1823 e kimberly rd\n",
      "\n",
      "store_name : hy-vee #3 food & drugstore / davenport\n",
      "zip_code : 52807\n",
      "address : 1823 e kimberly rd\n",
      "\n",
      "5/10 positive, 8/10 negative\n",
      "Do these records refer to the same thing?\n",
      "(y)es / (n)o / (u)nsure / (f)inished / (p)revious\n"
     ]
    },
    {
     "name": "stdout",
     "output_type": "stream",
     "text": [
      "y\n"
     ]
    },
    {
     "name": "stderr",
     "output_type": "stream",
     "text": [
      "store_name : hy-vee #4 / davenport\n",
      "zip_code : 52807\n",
      "address : 4064 e 53rd st\n",
      "\n",
      "store_name : hy-vee #3 food & drugstore / davenport\n",
      "zip_code : 52807\n",
      "address : 1823 e kimberly rd\n",
      "\n",
      "6/10 positive, 8/10 negative\n",
      "Do these records refer to the same thing?\n",
      "(y)es / (n)o / (u)nsure / (f)inished / (p)revious\n"
     ]
    },
    {
     "name": "stdout",
     "output_type": "stream",
     "text": [
      "n\n"
     ]
    },
    {
     "name": "stderr",
     "output_type": "stream",
     "text": [
      "store_name : hy-vee #4 / davenport\n",
      "zip_code : 52807\n",
      "address : 4064 e 53rd st\n",
      "\n",
      "store_name : hy-vee #3 food & drugstore / davenport\n",
      "zip_code : 52807\n",
      "address : 1823 e kimberly rd\n",
      "\n",
      "6/10 positive, 9/10 negative\n",
      "Do these records refer to the same thing?\n",
      "(y)es / (n)o / (u)nsure / (f)inished / (p)revious\n"
     ]
    },
    {
     "name": "stdout",
     "output_type": "stream",
     "text": [
      "n\n"
     ]
    },
    {
     "name": "stderr",
     "output_type": "stream",
     "text": [
      "store_name : hy-vee #3 food & drugstore / davenport\n",
      "zip_code : 52807\n",
      "address : 1823 e kimberly rd\n",
      "\n",
      "store_name : hy-vee #3 food & drugstore / davenport\n",
      "zip_code : 52807\n",
      "address : 1823 e kimberly rd\n",
      "\n",
      "6/10 positive, 10/10 negative\n",
      "Do these records refer to the same thing?\n",
      "(y)es / (n)o / (u)nsure / (f)inished / (p)revious\n"
     ]
    },
    {
     "name": "stdout",
     "output_type": "stream",
     "text": [
      "y\n"
     ]
    },
    {
     "name": "stderr",
     "output_type": "stream",
     "text": [
      "store_name : hy-vee #3 food & drugstore / davenport\n",
      "zip_code : 52807\n",
      "address : 1823 e kimberly rd\n",
      "\n",
      "store_name : hy-vee #3 food & drugstore / davenport\n",
      "zip_code : 52807\n",
      "address : 1823 e kimberly rd\n",
      "\n",
      "7/10 positive, 10/10 negative\n",
      "Do these records refer to the same thing?\n",
      "(y)es / (n)o / (u)nsure / (f)inished / (p)revious\n"
     ]
    },
    {
     "name": "stdout",
     "output_type": "stream",
     "text": [
      "y\n"
     ]
    },
    {
     "name": "stderr",
     "output_type": "stream",
     "text": [
      "store_name : hy-vee #3 food & drugstore / davenport\n",
      "zip_code : 52807\n",
      "address : 1823 e kimberly rd\n",
      "\n",
      "store_name : hy-vee #3 food & drugstore / davenport\n",
      "zip_code : 52807\n",
      "address : 1823 e kimberly rd\n",
      "\n",
      "8/10 positive, 10/10 negative\n",
      "Do these records refer to the same thing?\n",
      "(y)es / (n)o / (u)nsure / (f)inished / (p)revious\n"
     ]
    },
    {
     "name": "stdout",
     "output_type": "stream",
     "text": [
      "y\n"
     ]
    },
    {
     "name": "stderr",
     "output_type": "stream",
     "text": [
      "store_name : hy-vee #3 food & drugstore / davenport\n",
      "zip_code : 52807\n",
      "address : 1823 e kimberly rd\n",
      "\n",
      "store_name : hy-vee #3 food & drugstore / davenport\n",
      "zip_code : 52807\n",
      "address : 1823 e kimberly rd\n",
      "\n",
      "9/10 positive, 10/10 negative\n",
      "Do these records refer to the same thing?\n",
      "(y)es / (n)o / (u)nsure / (f)inished / (p)revious\n"
     ]
    },
    {
     "name": "stdout",
     "output_type": "stream",
     "text": [
      "y\n"
     ]
    },
    {
     "name": "stderr",
     "output_type": "stream",
     "text": [
      "store_name : hy-vee #3 food & drugstore / davenport\n",
      "zip_code : 52807\n",
      "address : 1823 e kimberly rd\n",
      "\n",
      "store_name : hy-vee #3 food & drugstore / davenport\n",
      "zip_code : 52807\n",
      "address : 1823 e kimberly rd\n",
      "\n",
      "10/10 positive, 10/10 negative\n",
      "Do these records refer to the same thing?\n",
      "(y)es / (n)o / (u)nsure / (f)inished / (p)revious\n"
     ]
    },
    {
     "name": "stdout",
     "output_type": "stream",
     "text": [
      "y\n"
     ]
    },
    {
     "name": "stderr",
     "output_type": "stream",
     "text": [
      "store_name : hy-vee #3 food & drugstore / davenport\n",
      "zip_code : 52807\n",
      "address : 1823 e kimberly rd\n",
      "\n",
      "store_name : hy-vee #4 / davenport\n",
      "zip_code : 52807\n",
      "address : 4064 e 53rd st\n",
      "\n",
      "11/10 positive, 10/10 negative\n",
      "Do these records refer to the same thing?\n",
      "(y)es / (n)o / (u)nsure / (f)inished / (p)revious\n"
     ]
    },
    {
     "name": "stdout",
     "output_type": "stream",
     "text": [
      "n\n"
     ]
    },
    {
     "name": "stderr",
     "output_type": "stream",
     "text": [
      "store_name : hy-vee #4 / davenport\n",
      "zip_code : 52807\n",
      "address : 4064 e 53rd st\n",
      "\n",
      "store_name : hy-vee #3 food & drugstore / davenport\n",
      "zip_code : 52807\n",
      "address : 1823 e kimberly rd\n",
      "\n",
      "11/10 positive, 11/10 negative\n",
      "Do these records refer to the same thing?\n",
      "(y)es / (n)o / (u)nsure / (f)inished / (p)revious\n"
     ]
    },
    {
     "name": "stdout",
     "output_type": "stream",
     "text": [
      "n\n"
     ]
    },
    {
     "name": "stderr",
     "output_type": "stream",
     "text": [
      "store_name : hy-vee #3 food & drugstore / davenport\n",
      "zip_code : 52807\n",
      "address : 1823 e kimberly rd\n",
      "\n",
      "store_name : hy-vee #3 food & drugstore / davenport\n",
      "zip_code : 52807\n",
      "address : 1823 e kimberly rd\n",
      "\n",
      "11/10 positive, 12/10 negative\n",
      "Do these records refer to the same thing?\n",
      "(y)es / (n)o / (u)nsure / (f)inished / (p)revious\n"
     ]
    },
    {
     "name": "stdout",
     "output_type": "stream",
     "text": [
      "f\n"
     ]
    },
    {
     "name": "stderr",
     "output_type": "stream",
     "text": [
      "Finished labeling\n"
     ]
    }
   ],
   "source": [
    "dedupe.console_label(deduper)\n"
   ]
  },
  {
   "cell_type": "code",
   "execution_count": null,
   "id": "3e80ec6d",
   "metadata": {},
   "outputs": [],
   "source": [
    "# pair = deduper.uncertain_pairs()\n",
    "# print(pair)\n"
   ]
  },
  {
   "cell_type": "code",
   "execution_count": null,
   "id": "a82eb4b4",
   "metadata": {},
   "outputs": [],
   "source": []
  },
  {
   "cell_type": "code",
   "execution_count": 9,
   "id": "35eb2ebd",
   "metadata": {},
   "outputs": [],
   "source": [
    "# dedupe.console_label(deduper)"
   ]
  },
  {
   "cell_type": "code",
   "execution_count": 8,
   "id": "774fd1c0",
   "metadata": {},
   "outputs": [],
   "source": [
    "deduper.train()"
   ]
  },
  {
   "cell_type": "code",
   "execution_count": 9,
   "id": "6685f225",
   "metadata": {},
   "outputs": [],
   "source": [
    "training_file = '/home/abhishekks446/pyspark/my_project_dir/dedupe_unittesting/INPUT/csv/label.json'\n"
   ]
  },
  {
   "cell_type": "code",
   "execution_count": 10,
   "id": "bbe8f99d",
   "metadata": {},
   "outputs": [],
   "source": [
    "with open(training_file, 'w') as tf:\n",
    "            deduper.write_training(tf)"
   ]
  },
  {
   "cell_type": "code",
   "execution_count": 13,
   "id": "62a5dcbf",
   "metadata": {},
   "outputs": [],
   "source": [
    "clustered_dupes = deduper.partition(data_d, 0.5)\n"
   ]
  },
  {
   "cell_type": "code",
   "execution_count": 15,
   "id": "cedfdb7d",
   "metadata": {},
   "outputs": [],
   "source": [
    "cluster_membership = {}\n",
    "cluster_id = 0\n",
    "for (cluster_id, cluster) in enumerate(clustered_dupes):\n",
    "    id_set, scores = cluster\n",
    "    cluster_d = [data_d[c] for c in id_set]\n",
    "    canonical_rep = dedupe.canonicalize(cluster_d)\n",
    "    for record_id, score in zip(id_set, scores) :\n",
    "        cluster_membership[record_id] = {\n",
    "            \"cluster id\" : cluster_id,\n",
    "            \"canonical representation\" : canonical_rep,\n",
    "            \"confidence\": score\n",
    "        }\n",
    "\n",
    "singleton_id = cluster_id + 1\n",
    "\n",
    "reader= df\n",
    "ls=[]\n",
    "for row in reader.collect():\n",
    "    \n",
    "    row_id = (row[primart_key])\n",
    "    if row_id in cluster_membership :\n",
    "        cluster_id = cluster_membership[row_id][\"cluster id\"]\n",
    "        confidence_s=cluster_membership[row_id]['confidence']\n",
    "        g = str(float(\"{0:.2f}\".format(confidence_s)))\n",
    "        d_list=[row_id,cluster_id,g]\n",
    "\n",
    "        ls.append(d_list)\n",
    "\n",
    "columns = [\"row_id\", \"cluster_id\",\"confidence_score\"]    \n",
    "dataframe = spark.createDataFrame(ls, columns,FloatType())\n",
    "new_df=reader.join(dataframe ,reader.unique_id ==  dataframe.row_id,\"inner\")\n",
    "new_df.coalesce(1).write.format(\"csv\").option(\"header\",\"true\").mode(\"overwrite\").save(\"/home/abhishekks446/data/big_basket_10k/output/\")"
   ]
  },
  {
   "cell_type": "code",
   "execution_count": null,
   "id": "9f9221da",
   "metadata": {},
   "outputs": [],
   "source": []
  }
 ],
 "metadata": {
  "kernelspec": {
   "display_name": "Python 3 (ipykernel)",
   "language": "python",
   "name": "python3"
  },
  "language_info": {
   "codemirror_mode": {
    "name": "ipython",
    "version": 3
   },
   "file_extension": ".py",
   "mimetype": "text/x-python",
   "name": "python",
   "nbconvert_exporter": "python",
   "pygments_lexer": "ipython3",
   "version": "3.8.10"
  }
 },
 "nbformat": 4,
 "nbformat_minor": 5
}
